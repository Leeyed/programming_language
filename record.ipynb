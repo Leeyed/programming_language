{
 "cells": [
  {
   "cell_type": "markdown",
   "metadata": {},
   "source": [
    "### cali\n",
    "\n",
    "decoding:\n",
    "1. 相关论文， metric， otsu（类间差最大化VS类内差最小化？）\n",
    "metric: \n",
    "    1. 四个sub area 的count 比例\n",
    "\n",
    "gate 的写法？\n",
    "\n",
    "\n",
    "\n",
    "设计问题：\n",
    "1. 一边循环一边输出？还是先把数据准备好，最后运行一个画图模块\n",
    "\n",
    "\n",
    "\n",
    "看下dd\n",
    "\n"
   ]
  }
 ],
 "metadata": {
  "language_info": {
   "name": "python"
  },
  "orig_nbformat": 4
 },
 "nbformat": 4,
 "nbformat_minor": 2
}
